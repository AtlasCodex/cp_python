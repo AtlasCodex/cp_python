{
  "nbformat": 4,
  "nbformat_minor": 0,
  "metadata": {
    "colab": {
      "provenance": [],
      "gpuType": "T4",
      "authorship_tag": "ABX9TyNqBnw+rFq9pEXBoGTe94EA"
    },
    "kernelspec": {
      "name": "python3",
      "display_name": "Python 3"
    },
    "language_info": {
      "name": "python"
    },
    "accelerator": "GPU"
  },
  "cells": [
    {
      "cell_type": "code",
      "source": [
        "import csv\n",
        "import itertools\n",
        "\n",
        "# 生成红球号码组合\n",
        "red_balls = itertools.combinations(range(1,36),5)\n",
        "\n",
        "# 生成蓝球号码组合\n",
        "blue_balls = itertools.combinations(range(1,12),2)\n",
        "\n",
        "# 笛卡尔积生成所有号码组合\n",
        "all_balls = itertools.product(red_balls, blue_balls)\n",
        "\n",
        "# 打开CSV文件准备写入\n",
        "with open('lottery_balls.csv', 'w') as f:\n",
        "    writer = csv.writer(f)\n",
        "\n",
        "    # 循环遍历所有组合,写入文件\n",
        "    for balls in all_balls:\n",
        "        row = []\n",
        "        for r in balls[0]:\n",
        "            row.append(r)\n",
        "        row.append(',')\n",
        "        for b in balls[1]:\n",
        "            row.append(b)\n",
        "        writer.writerow(row)"
      ],
      "metadata": {
        "id": "eyd3Evv2jOOn"
      },
      "execution_count": 3,
      "outputs": []
    },
    {
      "cell_type": "code",
      "source": [
        "!nvidia-smi"
      ],
      "metadata": {
        "colab": {
          "base_uri": "https://localhost:8080/"
        },
        "id": "oD_Lebjgfgtk",
        "outputId": "f98d8ac6-5421-4965-8e60-52b398c6844d"
      },
      "execution_count": null,
      "outputs": [
        {
          "output_type": "stream",
          "name": "stdout",
          "text": [
            "Fri Jul 21 08:08:40 2023       \n",
            "+-----------------------------------------------------------------------------+\n",
            "| NVIDIA-SMI 525.105.17   Driver Version: 525.105.17   CUDA Version: 12.0     |\n",
            "|-------------------------------+----------------------+----------------------+\n",
            "| GPU  Name        Persistence-M| Bus-Id        Disp.A | Volatile Uncorr. ECC |\n",
            "| Fan  Temp  Perf  Pwr:Usage/Cap|         Memory-Usage | GPU-Util  Compute M. |\n",
            "|                               |                      |               MIG M. |\n",
            "|===============================+======================+======================|\n",
            "|   0  Tesla T4            Off  | 00000000:00:04.0 Off |                    0 |\n",
            "| N/A   52C    P8    10W /  70W |      0MiB / 15360MiB |      0%      Default |\n",
            "|                               |                      |                  N/A |\n",
            "+-------------------------------+----------------------+----------------------+\n",
            "                                                                               \n",
            "+-----------------------------------------------------------------------------+\n",
            "| Processes:                                                                  |\n",
            "|  GPU   GI   CI        PID   Type   Process name                  GPU Memory |\n",
            "|        ID   ID                                                   Usage      |\n",
            "|=============================================================================|\n",
            "|  No running processes found                                                 |\n",
            "+-----------------------------------------------------------------------------+\n"
          ]
        }
      ]
    }
  ]
}